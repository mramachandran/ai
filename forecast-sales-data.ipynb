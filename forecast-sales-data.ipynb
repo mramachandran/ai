{
 "cells": [
  {
   "cell_type": "code",
   "execution_count": 1,
   "id": "5a033919",
   "metadata": {
    "_cell_guid": "b1076dfc-b9ad-4769-8c92-a6c4dae69d19",
    "_uuid": "8f2839f25d086af736a60e9eeb907d3b93b6e0e5",
    "execution": {
     "iopub.execute_input": "2022-02-25T16:58:25.333290Z",
     "iopub.status.busy": "2022-02-25T16:58:25.332104Z",
     "iopub.status.idle": "2022-02-25T16:58:25.344988Z",
     "shell.execute_reply": "2022-02-25T16:58:25.345884Z",
     "shell.execute_reply.started": "2022-02-25T16:25:59.596992Z"
    },
    "papermill": {
     "duration": 0.029573,
     "end_time": "2022-02-25T16:58:25.346474",
     "exception": false,
     "start_time": "2022-02-25T16:58:25.316901",
     "status": "completed"
    },
    "tags": []
   },
   "outputs": [
    {
     "name": "stdout",
     "output_type": "stream",
     "text": [
      "/kaggle/input/store-sales-time-series-forecasting/oil.csv\n",
      "/kaggle/input/store-sales-time-series-forecasting/sample_submission.csv\n",
      "/kaggle/input/store-sales-time-series-forecasting/holidays_events.csv\n",
      "/kaggle/input/store-sales-time-series-forecasting/stores.csv\n",
      "/kaggle/input/store-sales-time-series-forecasting/train.csv\n",
      "/kaggle/input/store-sales-time-series-forecasting/test.csv\n",
      "/kaggle/input/store-sales-time-series-forecasting/transactions.csv\n"
     ]
    }
   ],
   "source": [
    "# This Python 3 environment comes with many helpful analytics libraries installed\n",
    "# It is defined by the kaggle/python Docker image: https://github.com/kaggle/docker-python\n",
    "# For example, here's several helpful packages to load\n",
    "\n",
    "import numpy as np # linear algebra\n",
    "import pandas as pd # data processing, CSV file I/O (e.g. pd.read_csv)\n",
    "\n",
    "# Input data files are available in the read-only \"../input/\" directory\n",
    "# For example, running this (by clicking run or pressing Shift+Enter) will list all files under the input directory\n",
    "\n",
    "import os\n",
    "for dirname, _, filenames in os.walk('/kaggle/input'):\n",
    "    for filename in filenames:\n",
    "        print(os.path.join(dirname, filename))\n",
    "\n",
    "# You can write up to 20GB to the current directory (/kaggle/working/) that gets preserved as output when you create a version using \"Save & Run All\" \n",
    "# You can also write temporary files to /kaggle/temp/, but they won't be saved outside of the current session"
   ]
  },
  {
   "cell_type": "code",
   "execution_count": 2,
   "id": "48ed155e",
   "metadata": {
    "execution": {
     "iopub.execute_input": "2022-02-25T16:58:25.372339Z",
     "iopub.status.busy": "2022-02-25T16:58:25.371622Z",
     "iopub.status.idle": "2022-02-25T16:58:27.994030Z",
     "shell.execute_reply": "2022-02-25T16:58:27.993402Z",
     "shell.execute_reply.started": "2022-02-25T16:25:59.615651Z"
    },
    "papermill": {
     "duration": 2.635844,
     "end_time": "2022-02-25T16:58:27.994208",
     "exception": false,
     "start_time": "2022-02-25T16:58:25.358364",
     "status": "completed"
    },
    "tags": []
   },
   "outputs": [],
   "source": [
    "from fbprophet import Prophet\n",
    "model = Prophet()"
   ]
  },
  {
   "cell_type": "code",
   "execution_count": null,
   "id": "5d56eaa2",
   "metadata": {
    "papermill": {
     "duration": 0.010176,
     "end_time": "2022-02-25T16:58:28.014835",
     "exception": false,
     "start_time": "2022-02-25T16:58:28.004659",
     "status": "completed"
    },
    "tags": []
   },
   "outputs": [],
   "source": []
  },
  {
   "cell_type": "code",
   "execution_count": 3,
   "id": "b7e4e9a8",
   "metadata": {
    "execution": {
     "iopub.execute_input": "2022-02-25T16:58:28.042116Z",
     "iopub.status.busy": "2022-02-25T16:58:28.041379Z",
     "iopub.status.idle": "2022-02-25T17:00:40.724539Z",
     "shell.execute_reply": "2022-02-25T17:00:40.723898Z",
     "shell.execute_reply.started": "2022-02-25T16:26:01.551517Z"
    },
    "papermill": {
     "duration": 132.699453,
     "end_time": "2022-02-25T17:00:40.724726",
     "exception": false,
     "start_time": "2022-02-25T16:58:28.025273",
     "status": "completed"
    },
    "tags": []
   },
   "outputs": [
    {
     "name": "stdout",
     "output_type": "stream",
     "text": [
      "Collecting Prophet\r\n",
      "  Downloading prophet-1.0.1.tar.gz (65 kB)\r\n",
      "     |████████████████████████████████| 65 kB 305 kB/s            \r\n",
      "\u001b[?25h  Preparing metadata (setup.py) ... \u001b[?25l-\b \bdone\r\n",
      "\u001b[?25hRequirement already satisfied: Cython>=0.22 in /opt/conda/lib/python3.7/site-packages (from Prophet) (0.29.27)\r\n",
      "Collecting cmdstanpy==0.9.68\r\n",
      "  Downloading cmdstanpy-0.9.68-py3-none-any.whl (49 kB)\r\n",
      "     |████████████████████████████████| 49 kB 929 kB/s            \r\n",
      "\u001b[?25hRequirement already satisfied: pystan~=2.19.1.1 in /opt/conda/lib/python3.7/site-packages (from Prophet) (2.19.1.1)\r\n",
      "Requirement already satisfied: numpy>=1.15.4 in /opt/conda/lib/python3.7/site-packages (from Prophet) (1.20.3)\r\n",
      "Requirement already satisfied: pandas>=1.0.4 in /opt/conda/lib/python3.7/site-packages (from Prophet) (1.3.5)\r\n",
      "Requirement already satisfied: matplotlib>=2.0.0 in /opt/conda/lib/python3.7/site-packages (from Prophet) (3.5.1)\r\n",
      "Requirement already satisfied: LunarCalendar>=0.0.9 in /opt/conda/lib/python3.7/site-packages (from Prophet) (0.0.9)\r\n",
      "Requirement already satisfied: convertdate>=2.1.2 in /opt/conda/lib/python3.7/site-packages (from Prophet) (2.4.0)\r\n",
      "Requirement already satisfied: holidays>=0.10.2 in /opt/conda/lib/python3.7/site-packages (from Prophet) (0.12)\r\n",
      "Requirement already satisfied: setuptools-git>=1.2 in /opt/conda/lib/python3.7/site-packages (from Prophet) (1.2)\r\n",
      "Requirement already satisfied: python-dateutil>=2.8.0 in /opt/conda/lib/python3.7/site-packages (from Prophet) (2.8.2)\r\n",
      "Requirement already satisfied: tqdm>=4.36.1 in /opt/conda/lib/python3.7/site-packages (from Prophet) (4.62.3)\r\n",
      "Requirement already satisfied: ujson in /opt/conda/lib/python3.7/site-packages (from cmdstanpy==0.9.68->Prophet) (5.0.0)\r\n",
      "Requirement already satisfied: pymeeus<=1,>=0.3.13 in /opt/conda/lib/python3.7/site-packages (from convertdate>=2.1.2->Prophet) (0.5.11)\r\n",
      "Requirement already satisfied: korean-lunar-calendar in /opt/conda/lib/python3.7/site-packages (from holidays>=0.10.2->Prophet) (0.2.1)\r\n",
      "Requirement already satisfied: hijri-converter in /opt/conda/lib/python3.7/site-packages (from holidays>=0.10.2->Prophet) (2.2.2)\r\n",
      "Requirement already satisfied: pytz in /opt/conda/lib/python3.7/site-packages (from LunarCalendar>=0.0.9->Prophet) (2021.3)\r\n",
      "Requirement already satisfied: ephem>=3.7.5.3 in /opt/conda/lib/python3.7/site-packages (from LunarCalendar>=0.0.9->Prophet) (4.1.3)\r\n",
      "Requirement already satisfied: packaging>=20.0 in /opt/conda/lib/python3.7/site-packages (from matplotlib>=2.0.0->Prophet) (21.3)\r\n",
      "Requirement already satisfied: pillow>=6.2.0 in /opt/conda/lib/python3.7/site-packages (from matplotlib>=2.0.0->Prophet) (8.2.0)\r\n",
      "Requirement already satisfied: pyparsing>=2.2.1 in /opt/conda/lib/python3.7/site-packages (from matplotlib>=2.0.0->Prophet) (3.0.6)\r\n",
      "Requirement already satisfied: kiwisolver>=1.0.1 in /opt/conda/lib/python3.7/site-packages (from matplotlib>=2.0.0->Prophet) (1.3.2)\r\n",
      "Requirement already satisfied: cycler>=0.10 in /opt/conda/lib/python3.7/site-packages (from matplotlib>=2.0.0->Prophet) (0.11.0)\r\n",
      "Requirement already satisfied: fonttools>=4.22.0 in /opt/conda/lib/python3.7/site-packages (from matplotlib>=2.0.0->Prophet) (4.28.4)\r\n",
      "Requirement already satisfied: six>=1.5 in /opt/conda/lib/python3.7/site-packages (from python-dateutil>=2.8.0->Prophet) (1.16.0)\r\n",
      "Building wheels for collected packages: Prophet\r\n",
      "  Building wheel for Prophet (setup.py) ... \u001b[?25l-\b \b\\\b \bdone\r\n",
      "\u001b[?25h  Created wheel for Prophet: filename=prophet-1.0.1-py3-none-any.whl size=9432769 sha256=628646d4714f76821a4ab27235693e915ee92aa7d2857ad0905925232b89a77b\r\n",
      "  Stored in directory: /root/.cache/pip/wheels/4e/a0/1a/02c9ec9e3e9de6bdbb3d769d11992a6926889d71567d6b9b67\r\n",
      "Successfully built Prophet\r\n",
      "Installing collected packages: cmdstanpy, Prophet\r\n",
      "  Attempting uninstall: cmdstanpy\r\n",
      "    Found existing installation: cmdstanpy 0.9.5\r\n",
      "    Uninstalling cmdstanpy-0.9.5:\r\n",
      "      Successfully uninstalled cmdstanpy-0.9.5\r\n",
      "\u001b[31mERROR: pip's dependency resolver does not currently take into account all the packages that are installed. This behaviour is the source of the following dependency conflicts.\r\n",
      "fbprophet 0.7.1 requires cmdstanpy==0.9.5, but you have cmdstanpy 0.9.68 which is incompatible.\u001b[0m\r\n",
      "Successfully installed Prophet-1.0.1 cmdstanpy-0.9.68\r\n",
      "\u001b[33mWARNING: Running pip as the 'root' user can result in broken permissions and conflicting behaviour with the system package manager. It is recommended to use a virtual environment instead: https://pip.pypa.io/warnings/venv\u001b[0m\r\n"
     ]
    }
   ],
   "source": [
    "!pip install Prophet"
   ]
  },
  {
   "cell_type": "code",
   "execution_count": 4,
   "id": "1bdea072",
   "metadata": {
    "execution": {
     "iopub.execute_input": "2022-02-25T17:00:40.765953Z",
     "iopub.status.busy": "2022-02-25T17:00:40.764924Z",
     "iopub.status.idle": "2022-02-25T17:00:43.910190Z",
     "shell.execute_reply": "2022-02-25T17:00:43.910770Z",
     "shell.execute_reply.started": "2022-02-25T16:26:15.852555Z"
    },
    "papermill": {
     "duration": 3.167586,
     "end_time": "2022-02-25T17:00:43.911007",
     "exception": false,
     "start_time": "2022-02-25T17:00:40.743421",
     "status": "completed"
    },
    "tags": []
   },
   "outputs": [
    {
     "data": {
      "text/html": [
       "<div>\n",
       "<style scoped>\n",
       "    .dataframe tbody tr th:only-of-type {\n",
       "        vertical-align: middle;\n",
       "    }\n",
       "\n",
       "    .dataframe tbody tr th {\n",
       "        vertical-align: top;\n",
       "    }\n",
       "\n",
       "    .dataframe thead th {\n",
       "        text-align: right;\n",
       "    }\n",
       "</style>\n",
       "<table border=\"1\" class=\"dataframe\">\n",
       "  <thead>\n",
       "    <tr style=\"text-align: right;\">\n",
       "      <th></th>\n",
       "      <th>id</th>\n",
       "      <th>date</th>\n",
       "      <th>store_nbr</th>\n",
       "      <th>family</th>\n",
       "      <th>sales</th>\n",
       "      <th>onpromotion</th>\n",
       "    </tr>\n",
       "  </thead>\n",
       "  <tbody>\n",
       "    <tr>\n",
       "      <th>0</th>\n",
       "      <td>0</td>\n",
       "      <td>2013-01-01</td>\n",
       "      <td>1</td>\n",
       "      <td>AUTOMOTIVE</td>\n",
       "      <td>0.0</td>\n",
       "      <td>0</td>\n",
       "    </tr>\n",
       "    <tr>\n",
       "      <th>1</th>\n",
       "      <td>1</td>\n",
       "      <td>2013-01-01</td>\n",
       "      <td>1</td>\n",
       "      <td>BABY CARE</td>\n",
       "      <td>0.0</td>\n",
       "      <td>0</td>\n",
       "    </tr>\n",
       "    <tr>\n",
       "      <th>2</th>\n",
       "      <td>2</td>\n",
       "      <td>2013-01-01</td>\n",
       "      <td>1</td>\n",
       "      <td>BEAUTY</td>\n",
       "      <td>0.0</td>\n",
       "      <td>0</td>\n",
       "    </tr>\n",
       "    <tr>\n",
       "      <th>3</th>\n",
       "      <td>3</td>\n",
       "      <td>2013-01-01</td>\n",
       "      <td>1</td>\n",
       "      <td>BEVERAGES</td>\n",
       "      <td>0.0</td>\n",
       "      <td>0</td>\n",
       "    </tr>\n",
       "    <tr>\n",
       "      <th>4</th>\n",
       "      <td>4</td>\n",
       "      <td>2013-01-01</td>\n",
       "      <td>1</td>\n",
       "      <td>BOOKS</td>\n",
       "      <td>0.0</td>\n",
       "      <td>0</td>\n",
       "    </tr>\n",
       "  </tbody>\n",
       "</table>\n",
       "</div>"
      ],
      "text/plain": [
       "   id        date  store_nbr      family  sales  onpromotion\n",
       "0   0  2013-01-01          1  AUTOMOTIVE    0.0            0\n",
       "1   1  2013-01-01          1   BABY CARE    0.0            0\n",
       "2   2  2013-01-01          1      BEAUTY    0.0            0\n",
       "3   3  2013-01-01          1   BEVERAGES    0.0            0\n",
       "4   4  2013-01-01          1       BOOKS    0.0            0"
      ]
     },
     "execution_count": 4,
     "metadata": {},
     "output_type": "execute_result"
    }
   ],
   "source": [
    "from pandas import read_csv\n",
    "path = '/kaggle/input/store-sales-time-series-forecasting/train.csv'\n",
    "df = read_csv(path, header=0)\n",
    "df.head()"
   ]
  },
  {
   "cell_type": "code",
   "execution_count": 5,
   "id": "2ff58c19",
   "metadata": {
    "execution": {
     "iopub.execute_input": "2022-02-25T17:00:44.008830Z",
     "iopub.status.busy": "2022-02-25T17:00:44.006912Z",
     "iopub.status.idle": "2022-02-25T17:16:35.107244Z",
     "shell.execute_reply": "2022-02-25T17:16:35.106680Z",
     "shell.execute_reply.started": "2022-02-25T16:26:18.265740Z"
    },
    "papermill": {
     "duration": 951.177182,
     "end_time": "2022-02-25T17:16:35.107403",
     "exception": false,
     "start_time": "2022-02-25T17:00:43.930221",
     "status": "completed"
    },
    "tags": []
   },
   "outputs": [
    {
     "name": "stdout",
     "output_type": "stream",
     "text": [
      "Initial log joint probability = -156.737\n",
      "    Iter      log prob        ||dx||      ||grad||       alpha      alpha0  # evals  Notes \n",
      "Exception: normal_lpdf: Scale parameter is 0, but must be > 0!  (in 'unknown file name' at line 136)\n",
      "\n",
      "Exception: normal_lpdf: Scale parameter is 0, but must be > 0!  (in 'unknown file name' at line 136)\n",
      "\n",
      "Exception: normal_lpdf: Scale parameter is 0, but must be > 0!  (in 'unknown file name' at line 136)\n",
      "\n",
      "Error evaluating model log probability: Non-finite gradient.\n",
      "\n",
      "      99   1.27077e+07   3.38615e-05       38790.4           1           1      136   \n",
      "    Iter      log prob        ||dx||      ||grad||       alpha      alpha0  # evals  Notes \n",
      "     199   1.27081e+07   8.59518e-05       74153.2           1           1      248   \n",
      "    Iter      log prob        ||dx||      ||grad||       alpha      alpha0  # evals  Notes \n",
      "     271   1.27082e+07   1.29496e-05       21426.8     0.07606      0.9747      330   \n",
      "Optimization terminated normally: \n",
      "  Convergence detected: relative gradient magnitude is below tolerance\n"
     ]
    }
   ],
   "source": [
    "from pandas import to_datetime\n",
    "# prepare expected column names\n",
    "df.columns = ['id','ds','store_nbr','family', 'y','onpromotion']\n",
    "df['ds']= to_datetime(df['ds'])\n",
    "# define the model\n",
    "model = Prophet()\n",
    "# fit the model\n",
    "m = model.fit(df)"
   ]
  },
  {
   "cell_type": "markdown",
   "id": "0ce7fb0f",
   "metadata": {
    "papermill": {
     "duration": 0.017929,
     "end_time": "2022-02-25T17:16:35.144300",
     "exception": false,
     "start_time": "2022-02-25T17:16:35.126371",
     "status": "completed"
    },
    "tags": []
   },
   "source": []
  },
  {
   "cell_type": "code",
   "execution_count": 6,
   "id": "3143aa42",
   "metadata": {
    "execution": {
     "iopub.execute_input": "2022-02-25T17:16:35.184192Z",
     "iopub.status.busy": "2022-02-25T17:16:35.183544Z",
     "iopub.status.idle": "2022-02-25T17:16:35.198240Z",
     "shell.execute_reply": "2022-02-25T17:16:35.197568Z",
     "shell.execute_reply.started": "2022-02-25T16:41:45.265097Z"
    },
    "papermill": {
     "duration": 0.035833,
     "end_time": "2022-02-25T17:16:35.198385",
     "exception": false,
     "start_time": "2022-02-25T17:16:35.162552",
     "status": "completed"
    },
    "tags": []
   },
   "outputs": [
    {
     "data": {
      "text/html": [
       "<div>\n",
       "<style scoped>\n",
       "    .dataframe tbody tr th:only-of-type {\n",
       "        vertical-align: middle;\n",
       "    }\n",
       "\n",
       "    .dataframe tbody tr th {\n",
       "        vertical-align: top;\n",
       "    }\n",
       "\n",
       "    .dataframe thead th {\n",
       "        text-align: right;\n",
       "    }\n",
       "</style>\n",
       "<table border=\"1\" class=\"dataframe\">\n",
       "  <thead>\n",
       "    <tr style=\"text-align: right;\">\n",
       "      <th></th>\n",
       "      <th>ds</th>\n",
       "    </tr>\n",
       "  </thead>\n",
       "  <tbody>\n",
       "    <tr>\n",
       "      <th>2044</th>\n",
       "      <td>2018-08-11</td>\n",
       "    </tr>\n",
       "    <tr>\n",
       "      <th>2045</th>\n",
       "      <td>2018-08-12</td>\n",
       "    </tr>\n",
       "    <tr>\n",
       "      <th>2046</th>\n",
       "      <td>2018-08-13</td>\n",
       "    </tr>\n",
       "    <tr>\n",
       "      <th>2047</th>\n",
       "      <td>2018-08-14</td>\n",
       "    </tr>\n",
       "    <tr>\n",
       "      <th>2048</th>\n",
       "      <td>2018-08-15</td>\n",
       "    </tr>\n",
       "  </tbody>\n",
       "</table>\n",
       "</div>"
      ],
      "text/plain": [
       "             ds\n",
       "2044 2018-08-11\n",
       "2045 2018-08-12\n",
       "2046 2018-08-13\n",
       "2047 2018-08-14\n",
       "2048 2018-08-15"
      ]
     },
     "execution_count": 6,
     "metadata": {},
     "output_type": "execute_result"
    }
   ],
   "source": [
    "future = m.make_future_dataframe(periods=365)\n",
    "future.tail()"
   ]
  },
  {
   "cell_type": "code",
   "execution_count": 7,
   "id": "3764b0c6",
   "metadata": {
    "execution": {
     "iopub.execute_input": "2022-02-25T17:16:35.246074Z",
     "iopub.status.busy": "2022-02-25T17:16:35.245368Z",
     "iopub.status.idle": "2022-02-25T17:16:39.438511Z",
     "shell.execute_reply": "2022-02-25T17:16:39.437620Z",
     "shell.execute_reply.started": "2022-02-25T16:41:55.796802Z"
    },
    "papermill": {
     "duration": 4.22148,
     "end_time": "2022-02-25T17:16:39.438689",
     "exception": false,
     "start_time": "2022-02-25T17:16:35.217209",
     "status": "completed"
    },
    "tags": []
   },
   "outputs": [
    {
     "data": {
      "text/html": [
       "<div>\n",
       "<style scoped>\n",
       "    .dataframe tbody tr th:only-of-type {\n",
       "        vertical-align: middle;\n",
       "    }\n",
       "\n",
       "    .dataframe tbody tr th {\n",
       "        vertical-align: top;\n",
       "    }\n",
       "\n",
       "    .dataframe thead th {\n",
       "        text-align: right;\n",
       "    }\n",
       "</style>\n",
       "<table border=\"1\" class=\"dataframe\">\n",
       "  <thead>\n",
       "    <tr style=\"text-align: right;\">\n",
       "      <th></th>\n",
       "      <th>ds</th>\n",
       "      <th>yhat</th>\n",
       "      <th>yhat_lower</th>\n",
       "      <th>yhat_upper</th>\n",
       "    </tr>\n",
       "  </thead>\n",
       "  <tbody>\n",
       "    <tr>\n",
       "      <th>2044</th>\n",
       "      <td>2018-08-11</td>\n",
       "      <td>620.807202</td>\n",
       "      <td>-978.059947</td>\n",
       "      <td>2060.637471</td>\n",
       "    </tr>\n",
       "    <tr>\n",
       "      <th>2045</th>\n",
       "      <td>2018-08-12</td>\n",
       "      <td>651.080988</td>\n",
       "      <td>-849.033850</td>\n",
       "      <td>2147.302079</td>\n",
       "    </tr>\n",
       "    <tr>\n",
       "      <th>2046</th>\n",
       "      <td>2018-08-13</td>\n",
       "      <td>533.702627</td>\n",
       "      <td>-913.831663</td>\n",
       "      <td>2135.895807</td>\n",
       "    </tr>\n",
       "    <tr>\n",
       "      <th>2047</th>\n",
       "      <td>2018-08-14</td>\n",
       "      <td>507.889313</td>\n",
       "      <td>-1027.817516</td>\n",
       "      <td>1986.101315</td>\n",
       "    </tr>\n",
       "    <tr>\n",
       "      <th>2048</th>\n",
       "      <td>2018-08-15</td>\n",
       "      <td>522.257943</td>\n",
       "      <td>-959.529028</td>\n",
       "      <td>1978.778697</td>\n",
       "    </tr>\n",
       "  </tbody>\n",
       "</table>\n",
       "</div>"
      ],
      "text/plain": [
       "             ds        yhat   yhat_lower   yhat_upper\n",
       "2044 2018-08-11  620.807202  -978.059947  2060.637471\n",
       "2045 2018-08-12  651.080988  -849.033850  2147.302079\n",
       "2046 2018-08-13  533.702627  -913.831663  2135.895807\n",
       "2047 2018-08-14  507.889313 -1027.817516  1986.101315\n",
       "2048 2018-08-15  522.257943  -959.529028  1978.778697"
      ]
     },
     "execution_count": 7,
     "metadata": {},
     "output_type": "execute_result"
    }
   ],
   "source": [
    "# Python\n",
    "forecast = m.predict(future)\n",
    "forecast[['ds', 'yhat', 'yhat_lower', 'yhat_upper']].tail()"
   ]
  }
 ],
 "metadata": {
  "kernelspec": {
   "display_name": "Python 3",
   "language": "python",
   "name": "python3"
  },
  "language_info": {
   "codemirror_mode": {
    "name": "ipython",
    "version": 3
   },
   "file_extension": ".py",
   "mimetype": "text/x-python",
   "name": "python",
   "nbconvert_exporter": "python",
   "pygments_lexer": "ipython3",
   "version": "3.7.12"
  },
  "papermill": {
   "default_parameters": {},
   "duration": 1105.478448,
   "end_time": "2022-02-25T17:16:40.583646",
   "environment_variables": {},
   "exception": null,
   "input_path": "__notebook__.ipynb",
   "output_path": "__notebook__.ipynb",
   "parameters": {},
   "start_time": "2022-02-25T16:58:15.105198",
   "version": "2.3.3"
  }
 },
 "nbformat": 4,
 "nbformat_minor": 5
}
